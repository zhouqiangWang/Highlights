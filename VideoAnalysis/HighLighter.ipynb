{
 "cells": [
  {
   "cell_type": "code",
   "execution_count": 8,
   "metadata": {},
   "outputs": [],
   "source": [
    "import subprocess\n",
    "import os\n",
    "import scipy.io.wavfile as wav\n",
    "import IPython\n",
    "import matplotlib.pyplot as plt\n",
    "import numpy as np\n",
    "from moviepy.video.io.ffmpeg_tools import ffmpeg_extract_subclip\n",
    "%matplotlib inline\n",
    "\n",
    "ffmpeg_path = '/usr/local/bin/ffmpeg'\n",
    "wav_path = '/Users/zhouqiangw/Desktop/studio/Highlights/resource/wav'\n",
    "raw_videos_path = '/Users/zhouqiangw/Desktop/studio/Highlights/resource/raw_video'\n",
    "highlight_path = '/Users/zhouqiangw/Desktop/studio/Highlights/resource/highlights'\n",
    "\n",
    "file_list = [f for f in os.listdir(raw_videos_path)]\n",
    "\n",
    "command = [[ffmpeg_path,'-i', file, wav_path+'/'+os.path.splitext(file)[0]+'.wav'] for file in file_list]\n",
    "\n",
    "for cmd in command:\n",
    "    #Remove old wav files\n",
    "    try:\n",
    "        os.remove(wav_path+'/'+os.path.splitext(cmd[2])[0]+'.wav')  \n",
    "    except OSError:\n",
    "        pass\n",
    "    process = subprocess.run(cmd, cwd=raw_videos_path)\n",
    "\n",
    "wav_file_list = [w for w in os.listdir(wav_path) if w.endswith('.mp4')]"
   ]
  },
  {
   "cell_type": "markdown",
   "metadata": {},
   "source": [
    "### process wav file"
   ]
  },
  {
   "cell_type": "code",
   "execution_count": 9,
   "metadata": {},
   "outputs": [],
   "source": [
    "def process_wav_files(wav_file_list):\n",
    "    wav_array = []\n",
    "    sample_rates = []\n",
    "    for index, file in enumerate(wav_file_list):\n",
    "        #Read wav file\n",
    "        sample_rate, data = wav.read(wav_path+'/'+file)\n",
    "        #Convert to mono channel\n",
    "        data = data.astype(np.int32)\n",
    "        data_mono = (data[:,0] + data[:,1])/2\n",
    "        wav_duration = len(data)/sample_rate\n",
    "        sample_rates.append(sample_rate)\n",
    "        wav_array.append(data_mono)\n",
    "    return wav_array, sample_rates"
   ]
  },
  {
   "cell_type": "code",
   "execution_count": 12,
   "metadata": {},
   "outputs": [
    {
     "ename": "ValueError",
     "evalue": "File format b'\\x00\\x00\\x00 ' not understood. Only 'RIFF' and 'RIFX' supported.",
     "output_type": "error",
     "traceback": [
      "\u001b[0;31m---------------------------------------------------------------------------\u001b[0m",
      "\u001b[0;31mValueError\u001b[0m                                Traceback (most recent call last)",
      "\u001b[0;32m<ipython-input-12-90bfb8299b61>\u001b[0m in \u001b[0;36m<module>\u001b[0;34m\u001b[0m\n\u001b[1;32m     12\u001b[0m \u001b[0mWINDOW_LENGTH\u001b[0m \u001b[0;34m=\u001b[0m \u001b[0;36m8\u001b[0m\u001b[0;34m\u001b[0m\u001b[0;34m\u001b[0m\u001b[0m\n\u001b[1;32m     13\u001b[0m \u001b[0msampled_array\u001b[0m \u001b[0;34m=\u001b[0m \u001b[0;34m[\u001b[0m\u001b[0;34m]\u001b[0m\u001b[0;34m\u001b[0m\u001b[0;34m\u001b[0m\u001b[0m\n\u001b[0;32m---> 14\u001b[0;31m \u001b[0mwav_array\u001b[0m\u001b[0;34m,\u001b[0m \u001b[0msample_rates\u001b[0m \u001b[0;34m=\u001b[0m \u001b[0mprocess_wav_files\u001b[0m\u001b[0;34m(\u001b[0m\u001b[0mwav_file_list\u001b[0m\u001b[0;34m)\u001b[0m\u001b[0;34m\u001b[0m\u001b[0;34m\u001b[0m\u001b[0m\n\u001b[0m\u001b[1;32m     15\u001b[0m \u001b[0;34m\u001b[0m\u001b[0m\n\u001b[1;32m     16\u001b[0m \u001b[0;32mfor\u001b[0m \u001b[0marray\u001b[0m \u001b[0;32min\u001b[0m \u001b[0mwav_array\u001b[0m\u001b[0;34m:\u001b[0m\u001b[0;34m\u001b[0m\u001b[0;34m\u001b[0m\u001b[0m\n",
      "\u001b[0;32m<ipython-input-9-437fdfbb19b4>\u001b[0m in \u001b[0;36mprocess_wav_files\u001b[0;34m(wav_file_list)\u001b[0m\n\u001b[1;32m      4\u001b[0m     \u001b[0;32mfor\u001b[0m \u001b[0mindex\u001b[0m\u001b[0;34m,\u001b[0m \u001b[0mfile\u001b[0m \u001b[0;32min\u001b[0m \u001b[0menumerate\u001b[0m\u001b[0;34m(\u001b[0m\u001b[0mwav_file_list\u001b[0m\u001b[0;34m)\u001b[0m\u001b[0;34m:\u001b[0m\u001b[0;34m\u001b[0m\u001b[0;34m\u001b[0m\u001b[0m\n\u001b[1;32m      5\u001b[0m         \u001b[0;31m#Read wav file\u001b[0m\u001b[0;34m\u001b[0m\u001b[0;34m\u001b[0m\u001b[0;34m\u001b[0m\u001b[0m\n\u001b[0;32m----> 6\u001b[0;31m         \u001b[0msample_rate\u001b[0m\u001b[0;34m,\u001b[0m \u001b[0mdata\u001b[0m \u001b[0;34m=\u001b[0m \u001b[0mwav\u001b[0m\u001b[0;34m.\u001b[0m\u001b[0mread\u001b[0m\u001b[0;34m(\u001b[0m\u001b[0mwav_path\u001b[0m\u001b[0;34m+\u001b[0m\u001b[0;34m'/'\u001b[0m\u001b[0;34m+\u001b[0m\u001b[0mfile\u001b[0m\u001b[0;34m)\u001b[0m\u001b[0;34m\u001b[0m\u001b[0;34m\u001b[0m\u001b[0m\n\u001b[0m\u001b[1;32m      7\u001b[0m         \u001b[0;31m#Convert to mono channel\u001b[0m\u001b[0;34m\u001b[0m\u001b[0;34m\u001b[0m\u001b[0;34m\u001b[0m\u001b[0m\n\u001b[1;32m      8\u001b[0m         \u001b[0mdata\u001b[0m \u001b[0;34m=\u001b[0m \u001b[0mdata\u001b[0m\u001b[0;34m.\u001b[0m\u001b[0mastype\u001b[0m\u001b[0;34m(\u001b[0m\u001b[0mnp\u001b[0m\u001b[0;34m.\u001b[0m\u001b[0mint32\u001b[0m\u001b[0;34m)\u001b[0m\u001b[0;34m\u001b[0m\u001b[0;34m\u001b[0m\u001b[0m\n",
      "\u001b[0;32m/Library/Frameworks/Python.framework/Versions/3.8/lib/python3.8/site-packages/scipy/io/wavfile.py\u001b[0m in \u001b[0;36mread\u001b[0;34m(filename, mmap)\u001b[0m\n\u001b[1;32m    545\u001b[0m \u001b[0;34m\u001b[0m\u001b[0m\n\u001b[1;32m    546\u001b[0m     \u001b[0;32mtry\u001b[0m\u001b[0;34m:\u001b[0m\u001b[0;34m\u001b[0m\u001b[0;34m\u001b[0m\u001b[0m\n\u001b[0;32m--> 547\u001b[0;31m         \u001b[0mfile_size\u001b[0m\u001b[0;34m,\u001b[0m \u001b[0mis_big_endian\u001b[0m \u001b[0;34m=\u001b[0m \u001b[0m_read_riff_chunk\u001b[0m\u001b[0;34m(\u001b[0m\u001b[0mfid\u001b[0m\u001b[0;34m)\u001b[0m\u001b[0;34m\u001b[0m\u001b[0;34m\u001b[0m\u001b[0m\n\u001b[0m\u001b[1;32m    548\u001b[0m         \u001b[0mfmt_chunk_received\u001b[0m \u001b[0;34m=\u001b[0m \u001b[0;32mFalse\u001b[0m\u001b[0;34m\u001b[0m\u001b[0;34m\u001b[0m\u001b[0m\n\u001b[1;32m    549\u001b[0m         \u001b[0mdata_chunk_received\u001b[0m \u001b[0;34m=\u001b[0m \u001b[0;32mFalse\u001b[0m\u001b[0;34m\u001b[0m\u001b[0;34m\u001b[0m\u001b[0m\n",
      "\u001b[0;32m/Library/Frameworks/Python.framework/Versions/3.8/lib/python3.8/site-packages/scipy/io/wavfile.py\u001b[0m in \u001b[0;36m_read_riff_chunk\u001b[0;34m(fid)\u001b[0m\n\u001b[1;32m    444\u001b[0m     \u001b[0;32melse\u001b[0m\u001b[0;34m:\u001b[0m\u001b[0;34m\u001b[0m\u001b[0;34m\u001b[0m\u001b[0m\n\u001b[1;32m    445\u001b[0m         \u001b[0;31m# There are also .wav files with \"FFIR\" or \"XFIR\" signatures?\u001b[0m\u001b[0;34m\u001b[0m\u001b[0;34m\u001b[0m\u001b[0;34m\u001b[0m\u001b[0m\n\u001b[0;32m--> 446\u001b[0;31m         raise ValueError(f\"File format {repr(str1)} not understood. Only \"\n\u001b[0m\u001b[1;32m    447\u001b[0m                          \"'RIFF' and 'RIFX' supported.\")\n\u001b[1;32m    448\u001b[0m \u001b[0;34m\u001b[0m\u001b[0m\n",
      "\u001b[0;31mValueError\u001b[0m: File format b'\\x00\\x00\\x00 ' not understood. Only 'RIFF' and 'RIFX' supported."
     ]
    }
   ],
   "source": [
    "def find_energy(moving_average_list):\n",
    "  energy = []\n",
    "  for array in moving_average_list:\n",
    "    energy.append(np.square(array))\n",
    "  return energy\n",
    "  \n",
    "def subsample(array, step):\n",
    "  ssarray = array[::step].copy()\n",
    "  return ssarray\n",
    "  \n",
    "SAMPLING_FACTOR = 4\n",
    "WINDOW_LENGTH = 8\n",
    "sampled_array = []\n",
    "wav_array, sample_rates = process_wav_files(wav_file_list)\n",
    "\n",
    "for array in wav_array:\n",
    "  sampled_array.append(subsample(array, SAMPLING_FACTOR))\n",
    "  moving_average = find_moving_average(sampled_array, sample_rates, WINDOW_LENGTH, SAMPLING_FACTOR)\n",
    "  energy = find_energy(moving_average)"
   ]
  },
  {
   "cell_type": "code",
   "execution_count": null,
   "metadata": {},
   "outputs": [],
   "source": [
    "def find_highlight_times(array, threshold, sample_rate):\n",
    "  chunks = []\n",
    "  for i in range(len(array)-1):\n",
    "    if (array[i]<threshold<array[i+1] or array[i]>threshold>array[i+1]):\n",
    "      chunks.append((i*SAMPLING_FACTOR/sample_rate))\n",
    "   return chunks\n",
    "  \n",
    "  times = find_highlight_times(energy[1], thresholds[1], sample_rates[1])\n",
    "  \n",
    "chunk_list = []\n",
    "total_highlight_time = 0\n",
    "for index in range(0, len(times),2):\n",
    "    difference = times[index+1]-times[index]\n",
    "    if (difference > 4):\n",
    "        chunk_list.append([times[index], times[index+1]])\n",
    "        total_highlight_time = total_highlight_time + difference"
   ]
  },
  {
   "cell_type": "code",
   "execution_count": null,
   "metadata": {},
   "outputs": [],
   "source": [
    "file = open(highlight_path+'/highlight_file.txt','w') \n",
    "for index, chunk in enumerate(chunk_list):\n",
    "    file.write('file '+'\\''+highlight_path+'/'+'_highlight_'+str(index)+'.mkv'+'\\''+'\\n')\n",
    "    ffmpeg_extract_subclip(raw_videos_path+'/'+file_list[1], int(chunk[0]), int(chunk[1]), targetname=highlight_path+'/'+'_highlight_'+str(index)+'.mkv')\n",
    "file.close()"
   ]
  }
 ],
 "metadata": {
  "kernelspec": {
   "display_name": "Python 3",
   "language": "python",
   "name": "python3"
  },
  "language_info": {
   "codemirror_mode": {
    "name": "ipython",
    "version": 3
   },
   "file_extension": ".py",
   "mimetype": "text/x-python",
   "name": "python",
   "nbconvert_exporter": "python",
   "pygments_lexer": "ipython3",
   "version": "3.8.2"
  }
 },
 "nbformat": 4,
 "nbformat_minor": 4
}
