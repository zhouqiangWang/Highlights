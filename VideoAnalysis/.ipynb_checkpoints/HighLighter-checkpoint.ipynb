{
 "cells": [
  {
   "cell_type": "code",
   "execution_count": 3,
   "metadata": {},
   "outputs": [
    {
     "ename": "NameError",
     "evalue": "name 'raw_videos_path' is not defined",
     "output_type": "error",
     "traceback": [
      "\u001b[0;31m---------------------------------------------------------------------------\u001b[0m",
      "\u001b[0;31mNameError\u001b[0m                                 Traceback (most recent call last)",
      "\u001b[0;32m<ipython-input-3-537411a81de4>\u001b[0m in \u001b[0;36m<module>\u001b[0;34m\u001b[0m\n\u001b[1;32m     22\u001b[0m     \u001b[0;32mexcept\u001b[0m \u001b[0mOSError\u001b[0m\u001b[0;34m:\u001b[0m\u001b[0;34m\u001b[0m\u001b[0;34m\u001b[0m\u001b[0m\n\u001b[1;32m     23\u001b[0m         \u001b[0;32mpass\u001b[0m\u001b[0;34m\u001b[0m\u001b[0;34m\u001b[0m\u001b[0m\n\u001b[0;32m---> 24\u001b[0;31m     \u001b[0mprocess\u001b[0m \u001b[0;34m=\u001b[0m \u001b[0msubprocess\u001b[0m\u001b[0;34m.\u001b[0m\u001b[0mrun\u001b[0m\u001b[0;34m(\u001b[0m\u001b[0mcmd\u001b[0m\u001b[0;34m,\u001b[0m \u001b[0mcwd\u001b[0m\u001b[0;34m=\u001b[0m\u001b[0mraw_videos_path\u001b[0m\u001b[0;34m)\u001b[0m\u001b[0;34m\u001b[0m\u001b[0;34m\u001b[0m\u001b[0m\n\u001b[0m\u001b[1;32m     25\u001b[0m \u001b[0;34m\u001b[0m\u001b[0m\n\u001b[1;32m     26\u001b[0m \u001b[0;31m# wav_file_list = [w for w in os.listdir(wav_path) if w.endswith('.mp4')]\u001b[0m\u001b[0;34m\u001b[0m\u001b[0;34m\u001b[0m\u001b[0;34m\u001b[0m\u001b[0m\n",
      "\u001b[0;31mNameError\u001b[0m: name 'raw_videos_path' is not defined"
     ]
    }
   ],
   "source": [
    "import subprocess\n",
    "import os\n",
    "import scipy.io.wavfile as wav\n",
    "import IPython\n",
    "import matplotlib.pyplot as plt\n",
    "import numpy as np\n",
    "from moviepy.video.io.ffmpeg_tools import ffmpeg_extract_subclip\n",
    "%matplotlib inline\n",
    "\n",
    "ffmpeg_path = '/usr/local/bin/ffmpeg'\n",
    "wav_path = '../wav/'\n",
    "raw_videos_path = '/Users/zhouqiangw/Desktop/studio/Highlights/raw_video'\n",
    "highlight_path = '../Highlights'\n",
    "\n",
    "file_list = [f for f in os.listdir(raw_videos_path)]\n",
    "\n",
    "command = [[ffmpeg_path,'-i', file, wav_path+'/'+os.path.splitext(file)[0]+'.mp4'] for file in file_list]\n",
    "\n",
    "for cmd in command:\n",
    "    #Remove old wav files\n",
    "    try:\n",
    "        os.remove(wav_path+'/'+os.path.splitext(cmd[2])[0]+'.wav')  \n",
    "    except OSError:\n",
    "        pass\n",
    "    process = subprocess.run(cmd, cwd=raw_videos_path)\n",
    "\n",
    "wav_file_list = [w for w in os.listdir(wav_path) if w.endswith('.mp4')]"
   ]
  },
  {
   "cell_type": "code",
   "execution_count": null,
   "metadata": {},
   "outputs": [],
   "source": []
  }
 ],
 "metadata": {
  "kernelspec": {
   "display_name": "Python 3",
   "language": "python",
   "name": "python3"
  },
  "language_info": {
   "codemirror_mode": {
    "name": "ipython",
    "version": 3
   },
   "file_extension": ".py",
   "mimetype": "text/x-python",
   "name": "python",
   "nbconvert_exporter": "python",
   "pygments_lexer": "ipython3",
   "version": "3.8.2"
  }
 },
 "nbformat": 4,
 "nbformat_minor": 4
}
